{
 "cells": [
  {
   "cell_type": "markdown",
   "id": "5d027f30",
   "metadata": {},
   "source": [
    "# Ridge regression machine learning"
   ]
  },
  {
   "cell_type": "code",
   "execution_count": 22,
   "id": "4a71146c",
   "metadata": {},
   "outputs": [],
   "source": [
    "import pandas as pd\n",
    "from sklearn.linear_model import Ridge\n",
    "from sklearn.linear_model import Lasso\n",
    "from sklearn.model_selection import train_test_split"
   ]
  },
  {
   "cell_type": "code",
   "execution_count": 3,
   "id": "31569304",
   "metadata": {},
   "outputs": [],
   "source": [
    "wine_quality = pd.read_csv(\"winequality-red.csv\",sep=';')\n",
    "wine_quality.rename(columns=lambda x: x.replace(\" \", \"_\"), inplace=True)"
   ]
  },
  {
   "cell_type": "code",
   "execution_count": 4,
   "id": "5a7540d6",
   "metadata": {},
   "outputs": [
    {
     "data": {
      "text/html": [
       "<div>\n",
       "<style scoped>\n",
       "    .dataframe tbody tr th:only-of-type {\n",
       "        vertical-align: middle;\n",
       "    }\n",
       "\n",
       "    .dataframe tbody tr th {\n",
       "        vertical-align: top;\n",
       "    }\n",
       "\n",
       "    .dataframe thead th {\n",
       "        text-align: right;\n",
       "    }\n",
       "</style>\n",
       "<table border=\"1\" class=\"dataframe\">\n",
       "  <thead>\n",
       "    <tr style=\"text-align: right;\">\n",
       "      <th></th>\n",
       "      <th>0</th>\n",
       "      <th>1</th>\n",
       "      <th>2</th>\n",
       "      <th>3</th>\n",
       "      <th>4</th>\n",
       "    </tr>\n",
       "  </thead>\n",
       "  <tbody>\n",
       "    <tr>\n",
       "      <th>fixed_acidity</th>\n",
       "      <td>7.4000</td>\n",
       "      <td>7.8000</td>\n",
       "      <td>7.800</td>\n",
       "      <td>11.200</td>\n",
       "      <td>7.4000</td>\n",
       "    </tr>\n",
       "    <tr>\n",
       "      <th>volatile_acidity</th>\n",
       "      <td>0.7000</td>\n",
       "      <td>0.8800</td>\n",
       "      <td>0.760</td>\n",
       "      <td>0.280</td>\n",
       "      <td>0.7000</td>\n",
       "    </tr>\n",
       "    <tr>\n",
       "      <th>citric_acid</th>\n",
       "      <td>0.0000</td>\n",
       "      <td>0.0000</td>\n",
       "      <td>0.040</td>\n",
       "      <td>0.560</td>\n",
       "      <td>0.0000</td>\n",
       "    </tr>\n",
       "    <tr>\n",
       "      <th>residual_sugar</th>\n",
       "      <td>1.9000</td>\n",
       "      <td>2.6000</td>\n",
       "      <td>2.300</td>\n",
       "      <td>1.900</td>\n",
       "      <td>1.9000</td>\n",
       "    </tr>\n",
       "    <tr>\n",
       "      <th>chlorides</th>\n",
       "      <td>0.0760</td>\n",
       "      <td>0.0980</td>\n",
       "      <td>0.092</td>\n",
       "      <td>0.075</td>\n",
       "      <td>0.0760</td>\n",
       "    </tr>\n",
       "    <tr>\n",
       "      <th>free_sulfur_dioxide</th>\n",
       "      <td>11.0000</td>\n",
       "      <td>25.0000</td>\n",
       "      <td>15.000</td>\n",
       "      <td>17.000</td>\n",
       "      <td>11.0000</td>\n",
       "    </tr>\n",
       "    <tr>\n",
       "      <th>total_sulfur_dioxide</th>\n",
       "      <td>34.0000</td>\n",
       "      <td>67.0000</td>\n",
       "      <td>54.000</td>\n",
       "      <td>60.000</td>\n",
       "      <td>34.0000</td>\n",
       "    </tr>\n",
       "    <tr>\n",
       "      <th>density</th>\n",
       "      <td>0.9978</td>\n",
       "      <td>0.9968</td>\n",
       "      <td>0.997</td>\n",
       "      <td>0.998</td>\n",
       "      <td>0.9978</td>\n",
       "    </tr>\n",
       "    <tr>\n",
       "      <th>pH</th>\n",
       "      <td>3.5100</td>\n",
       "      <td>3.2000</td>\n",
       "      <td>3.260</td>\n",
       "      <td>3.160</td>\n",
       "      <td>3.5100</td>\n",
       "    </tr>\n",
       "    <tr>\n",
       "      <th>sulphates</th>\n",
       "      <td>0.5600</td>\n",
       "      <td>0.6800</td>\n",
       "      <td>0.650</td>\n",
       "      <td>0.580</td>\n",
       "      <td>0.5600</td>\n",
       "    </tr>\n",
       "    <tr>\n",
       "      <th>alcohol</th>\n",
       "      <td>9.4000</td>\n",
       "      <td>9.8000</td>\n",
       "      <td>9.800</td>\n",
       "      <td>9.800</td>\n",
       "      <td>9.4000</td>\n",
       "    </tr>\n",
       "    <tr>\n",
       "      <th>quality</th>\n",
       "      <td>5.0000</td>\n",
       "      <td>5.0000</td>\n",
       "      <td>5.000</td>\n",
       "      <td>6.000</td>\n",
       "      <td>5.0000</td>\n",
       "    </tr>\n",
       "  </tbody>\n",
       "</table>\n",
       "</div>"
      ],
      "text/plain": [
       "                            0        1       2       3        4\n",
       "fixed_acidity          7.4000   7.8000   7.800  11.200   7.4000\n",
       "volatile_acidity       0.7000   0.8800   0.760   0.280   0.7000\n",
       "citric_acid            0.0000   0.0000   0.040   0.560   0.0000\n",
       "residual_sugar         1.9000   2.6000   2.300   1.900   1.9000\n",
       "chlorides              0.0760   0.0980   0.092   0.075   0.0760\n",
       "free_sulfur_dioxide   11.0000  25.0000  15.000  17.000  11.0000\n",
       "total_sulfur_dioxide  34.0000  67.0000  54.000  60.000  34.0000\n",
       "density                0.9978   0.9968   0.997   0.998   0.9978\n",
       "pH                     3.5100   3.2000   3.260   3.160   3.5100\n",
       "sulphates              0.5600   0.6800   0.650   0.580   0.5600\n",
       "alcohol                9.4000   9.8000   9.800   9.800   9.4000\n",
       "quality                5.0000   5.0000   5.000   6.000   5.0000"
      ]
     },
     "execution_count": 4,
     "metadata": {},
     "output_type": "execute_result"
    }
   ],
   "source": [
    "wine_quality.head().T"
   ]
  },
  {
   "cell_type": "code",
   "execution_count": 5,
   "id": "aa46f4ef",
   "metadata": {},
   "outputs": [],
   "source": [
    "all_colnms = ['fixed_acidity', 'volatile_acidity', 'citric_acid', 'residual_sugar', 'chlorides', 'free_sulfur_dioxide', 'total_sulfur_dioxide', 'density', 'pH', 'sulphates', 'alcohol']"
   ]
  },
  {
   "cell_type": "code",
   "execution_count": 6,
   "id": "3de6c1d4",
   "metadata": {},
   "outputs": [],
   "source": [
    "pdx = wine_quality[all_colnms]\n",
    "pdy = wine_quality[\"quality\"]"
   ]
  },
  {
   "cell_type": "code",
   "execution_count": 9,
   "id": "f29bf442",
   "metadata": {},
   "outputs": [],
   "source": [
    "x_train,x_test,y_train,y_test = train_test_split(pdx,pdy,train_size = 0.7,random_state=42)"
   ]
  },
  {
   "cell_type": "markdown",
   "id": "5879628a",
   "metadata": {},
   "source": [
    "# Various values of alphas are to be tested in a grid search to test the model's fitness:"
   ]
  },
  {
   "cell_type": "code",
   "execution_count": 10,
   "id": "1d6c595c",
   "metadata": {},
   "outputs": [],
   "source": [
    "alphas = [1e-4,1e-3,1e-2,0.1,0.5,1.0,5.0,10.0]"
   ]
  },
  {
   "cell_type": "code",
   "execution_count": 21,
   "id": "5fb6ab78",
   "metadata": {},
   "outputs": [
    {
     "name": "stdout",
     "output_type": "stream",
     "text": [
      "\n",
      "Ridge Regression: Best Parameters\n",
      "\n",
      "Lambda:  0.0001 Train R-Squaredvalue: 0.3612 Test R-squared value: 0.35135\n"
     ]
    }
   ],
   "source": [
    "\n",
    "initrsq = 0\n",
    "for alph in alphas:\n",
    "    ridge_reg = Ridge(alpha=alph)\n",
    "    ridge_reg.fit(x_train,y_train)\n",
    "    tr_rsqrd = ridge_reg.score(x_train,y_train)\n",
    "    ts_rsqrd = ridge_reg.score(x_test,y_test)\n",
    "    \n",
    "    \n",
    "    if ts_rsqrd > initrsq:\n",
    "        print (\"\\nRidge Regression: Best Parameters\\n\")\n",
    "        print (\"Lambda: \",alph,\"Train R-Squaredvalue:\",round(tr_rsqrd,5),\"Test R-squared value:\",round(ts_rsqrd,5))\n",
    "        initrsq = ts_rsqrd"
   ]
  },
  {
   "cell_type": "markdown",
   "id": "dc3f8761",
   "metadata": {},
   "source": [
    "# Lasso regression machine learning model"
   ]
  },
  {
   "cell_type": "code",
   "execution_count": 23,
   "id": "8f29f29a",
   "metadata": {},
   "outputs": [],
   "source": [
    "alphas = [1e-4,1e-3,1e-2,0.1,0.5,1.0,5.0,10.0]"
   ]
  },
  {
   "cell_type": "code",
   "execution_count": 25,
   "id": "605df5eb",
   "metadata": {},
   "outputs": [
    {
     "name": "stdout",
     "output_type": "stream",
     "text": [
      "\n",
      "Ridge Regression: Best Parameters\n",
      "\n",
      "Lambda:  0.0001 Train R-Squaredvalue: 0.36101 Test R-squared value: 0.35057\n"
     ]
    }
   ],
   "source": [
    "initrsq = 0\n",
    "for alph in alphas:\n",
    "    lasso_reg = Lasso(alpha=alph)\n",
    "    lasso_reg.fit(x_train,y_train)\n",
    "    tr_rsqrd = lasso_reg.score(x_train,y_train)\n",
    "    ts_rsqrd = lasso_reg.score(x_test,y_test)\n",
    "    \n",
    "    \n",
    "    if ts_rsqrd > initrsq:\n",
    "        print (\"\\nRidge Regression: Best Parameters\\n\")\n",
    "        print (\"Lambda: \",alph,\"Train R-Squaredvalue:\",round(tr_rsqrd,5),\"Test R-squared value:\",round(ts_rsqrd,5))\n",
    "        initrsq = ts_rsqrd"
   ]
  },
  {
   "cell_type": "code",
   "execution_count": 26,
   "id": "0d92e75f",
   "metadata": {},
   "outputs": [
    {
     "name": "stdout",
     "output_type": "stream",
     "text": [
      "\n",
      "Ridge Regression coefficient values of Alpha = 0.001\n",
      "\n",
      "fixed_acidity :  0.015506587508042666\n",
      "volatile_acidity :  -1.1050982354876902\n",
      "citric_acid :  -0.24879865532350992\n",
      "residual_sugar :  0.00401889539283461\n",
      "chlorides :  -1.6843839620863434\n",
      "free_sulfur_dioxide :  0.004636901710963169\n",
      "total_sulfur_dioxide :  -0.0032837679041055204\n",
      "density :  -5.567271746801942\n",
      "pH :  -0.36248001720401146\n",
      "sulphates :  0.8009191228025597\n",
      "alcohol :  0.2999182442952113\n",
      "\n",
      "Lasso Regression coefficient values of Alpha = 0.001\n",
      "\n",
      "fixed_acidity :  0.014149546369062405\n",
      "volatile_acidity :  -1.0906236090493846\n",
      "citric_acid :  -0.18529515004737002\n",
      "residual_sugar :  -0.00013661024678721814\n",
      "chlorides :  -1.058775797041006\n",
      "free_sulfur_dioxide :  0.004831648175148986\n",
      "total_sulfur_dioxide :  -0.003267228855959229\n",
      "density :  -0.0\n",
      "pH :  -0.25690192587072996\n",
      "sulphates :  0.6944875403164108\n",
      "alcohol :  0.3077561491242808\n"
     ]
    }
   ],
   "source": [
    "ridge_reg = Ridge(alpha=0.001)\n",
    "ridge_reg.fit(x_train,y_train)\n",
    "print (\"\\nRidge Regression coefficient values of Alpha = 0.001\\n\")\n",
    "for i in range(11):\n",
    "    print (all_colnms[i],\": \",ridge_reg.coef_[i])\n",
    "lasso_reg = Lasso(alpha=0.001)\n",
    "lasso_reg.fit(x_train,y_train)\n",
    "\n",
    "\n",
    "\n",
    "print (\"\\nLasso Regression coefficient values of Alpha = 0.001\\n\")\n",
    "for i in range(11):\n",
    "    print (all_colnms[i],\": \",lasso_reg.coef_[i])"
   ]
  },
  {
   "cell_type": "code",
   "execution_count": null,
   "id": "bb7d2c3c",
   "metadata": {},
   "outputs": [],
   "source": []
  }
 ],
 "metadata": {
  "kernelspec": {
   "display_name": "Python 3 (ipykernel)",
   "language": "python",
   "name": "python3"
  },
  "language_info": {
   "codemirror_mode": {
    "name": "ipython",
    "version": 3
   },
   "file_extension": ".py",
   "mimetype": "text/x-python",
   "name": "python",
   "nbconvert_exporter": "python",
   "pygments_lexer": "ipython3",
   "version": "3.9.13"
  }
 },
 "nbformat": 4,
 "nbformat_minor": 5
}
